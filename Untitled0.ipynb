{
  "nbformat": 4,
  "nbformat_minor": 0,
  "metadata": {
    "colab": {
      "provenance": [],
      "include_colab_link": true
    },
    "kernelspec": {
      "name": "python3",
      "display_name": "Python 3"
    },
    "language_info": {
      "name": "python"
    }
  },
  "cells": [
    {
      "cell_type": "markdown",
      "metadata": {
        "id": "view-in-github",
        "colab_type": "text"
      },
      "source": [
        "<a href=\"https://colab.research.google.com/github/satishmandale/GitDemoRepo/blob/master/Untitled0.ipynb\" target=\"_parent\"><img src=\"https://colab.research.google.com/assets/colab-badge.svg\" alt=\"Open In Colab\"/></a>"
      ]
    },
    {
      "cell_type": "markdown",
      "source": [
        "# Tasks:\n",
        "Chart Preparation: Prepare data for the following charts:\n",
        "\n",
        "1.   A bar chart showing the total order amount per country.\n",
        "2.   A pie chart showing the proportion of 'High' and 'Low' order categories. 'High' if the order_amount is greater than the median order amount, otherwise 'Low'.\n",
        "3.   A line chart showing the trend of total order amounts over order_date.\n",
        "\n",
        "# Chart Data Examples\n",
        "\n",
        "Bar Chart -\n",
        "\n",
        "![image.png](data:image/png;base64,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)\n",
        "\n",
        "Pie Chart -\n",
        "\n",
        "![pie.png](data:image/png;base64,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)\n",
        "\n",
        "Line Chart -\n",
        "\n",
        "![line.png](data:image/png;base64,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)"
      ],
      "metadata": {
        "id": "-ptVcqsxxlIQ"
      }
    },
    {
      "cell_type": "code",
      "source": [
        "import pandas as pd\n",
        "\n",
        "data_customers = {\n",
        "    'customer_id': [1, 2, 3, 4, 5, 6],\n",
        "    'name': ['Alice', 'Bob', 'Charlie', 'David', 'Eve', 'Frank'],\n",
        "    'age': [25, 30, 35, 40, 45, 50],\n",
        "    'country': ['US', 'UK', 'US', 'FR', 'UK', 'US'],\n",
        "    'join_date': ['2022-01-15', '2021-03-22', '2022-05-10', '2020-11-30', '2019-07-19', '2023-01-25']\n",
        "}\n",
        "\n",
        "data_orders = {\n",
        "    'order_id': [101, 102, 103, 104, 105, 106, 107, 108],\n",
        "    'customer_id': [1, 2, 2, 3, 4, 5, 6, 6],\n",
        "    'order_amount': [250, 150, 300, 200, 500, 100, 450, 125],\n",
        "    'order_date': ['2023-06-01', '2023-06-03', '2023-06-03', '2023-06-04', '2023-06-05', '2023-06-06', '2023-06-06', '2023-06-08']\n",
        "}\n",
        "\n",
        "df_customers = pd.DataFrame(data_customers)\n",
        "df_orders = pd.DataFrame(data_orders)"
      ],
      "metadata": {
        "id": "aEKsmanbxvGA"
      },
      "execution_count": null,
      "outputs": []
    },
    {
      "cell_type": "code",
      "source": [
        "DF1 = spark.createDataFrame(data_customers)\n",
        "DF1.display()"
      ],
      "metadata": {
        "id": "vEw1Rr3r3fm3",
        "outputId": "4fec1235-b874-4f55-c1e5-910bf758f193",
        "colab": {
          "base_uri": "https://localhost:8080/",
          "height": 164
        }
      },
      "execution_count": 1,
      "outputs": [
        {
          "output_type": "error",
          "ename": "NameError",
          "evalue": "name 'spark' is not defined",
          "traceback": [
            "\u001b[0;31m---------------------------------------------------------------------------\u001b[0m",
            "\u001b[0;31mNameError\u001b[0m                                 Traceback (most recent call last)",
            "\u001b[0;32m<ipython-input-1-e01c7b1df6b6>\u001b[0m in \u001b[0;36m<cell line: 0>\u001b[0;34m()\u001b[0m\n\u001b[0;32m----> 1\u001b[0;31m \u001b[0mDF1\u001b[0m \u001b[0;34m=\u001b[0m \u001b[0mspark\u001b[0m\u001b[0;34m.\u001b[0m\u001b[0mcreateDataFrame\u001b[0m\u001b[0;34m(\u001b[0m\u001b[0mdata_customers\u001b[0m\u001b[0;34m)\u001b[0m\u001b[0;34m\u001b[0m\u001b[0;34m\u001b[0m\u001b[0m\n\u001b[0m\u001b[1;32m      2\u001b[0m \u001b[0mDF1\u001b[0m\u001b[0;34m.\u001b[0m\u001b[0mdisplay\u001b[0m\u001b[0;34m(\u001b[0m\u001b[0;34m)\u001b[0m\u001b[0;34m\u001b[0m\u001b[0;34m\u001b[0m\u001b[0m\n",
            "\u001b[0;31mNameError\u001b[0m: name 'spark' is not defined"
          ]
        }
      ]
    }
  ]
}